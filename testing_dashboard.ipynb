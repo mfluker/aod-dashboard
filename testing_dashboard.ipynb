{
 "cells": [
  {
   "cell_type": "markdown",
   "id": "bcd1d6b7-e6d0-403c-b680-5ed7a8151d17",
   "metadata": {
    "panel-layout": {
     "height": 60.56640625,
     "visible": true,
     "width": 100
    }
   },
   "source": [
    "# Ops & BSC Dashboard"
   ]
  },
  {
   "cell_type": "code",
   "execution_count": 4,
   "id": "c8c7b2ea-1f1b-49f5-9f02-df25d54a25ed",
   "metadata": {},
   "outputs": [
    {
     "name": "stdout",
     "output_type": "stream",
     "text": [
      "✅ Jobs data for 06/15/2025 – 06/21/2025 already present.\n",
      "✅ Call Center data for 06/15/2025 – 06/21/2025 already present.\n"
     ]
    },
    {
     "data": {
      "text/html": [
       "\n",
       "        <iframe\n",
       "            width=\"100%\"\n",
       "            height=\"650\"\n",
       "            src=\"http://127.0.0.1:8057/\"\n",
       "            frameborder=\"0\"\n",
       "            allowfullscreen\n",
       "            \n",
       "        ></iframe>\n",
       "        "
      ],
      "text/plain": [
       "<IPython.lib.display.IFrame at 0x14cfb5010>"
      ]
     },
     "metadata": {},
     "output_type": "display_data"
    }
   ],
   "source": [
    "# Reporting_Dashboard-Copy1.ipynb\n",
    "import re\n",
    "import pandas as pd\n",
    "import plotly.express as px\n",
    "import plotly.graph_objects as go\n",
    "from pathlib import Path\n",
    "from datetime import date\n",
    "from datetime import timedelta\n",
    "import math\n",
    "import os\n",
    "from dash import Dash, dcc, html, dash_table\n",
    "from dash.dependencies import Input, Output\n",
    "from data_fetcher import *\n",
    "from dashboard_utils import *\n",
    "from datetime import datetime\n",
    "\n",
    "# Load in Data\n",
    "MASTER_JOBS_PARQUET = Path(\"MasterData/all_jobs_data.parquet\")\n",
    "MASTER_CALLS_PARQUET = Path(\"MasterData/all_call_center_data.parquet\")\n",
    "\n",
    "jobs_all_df = pd.read_parquet(MASTER_JOBS_PARQUET)\n",
    "calls_all_df = pd.read_parquet(MASTER_CALLS_PARQUET)\n",
    "\n",
    "# Check if Dashboard Needs Updated Data\n",
    "jobs_all_df, calls_all_df = fetch_and_append_week_if_needed(jobs_all_df, calls_all_df)\n",
    "\n",
    "\n",
    "# ─── 1. Instantiate Dash App & Layout ─────────────────────────────────────\n",
    "all_franchisees = [\"All\"] + sorted(jobs_all_df[\"Franchisee\"].dropna().unique())\n",
    "week_options = generate_week_options_from_parquet(jobs_all_df)\n",
    "\n",
    "app = Dash(__name__, suppress_callback_exceptions=True)\n",
    "\n",
    "server = app.server\n",
    "app.title = \"Art of Drawers Dashboard\"\n",
    "\n",
    "app.layout = html.Div(\n",
    "    style={\n",
    "        \"fontFamily\": \"Segoe UI, sans-serif\",\n",
    "        \"margin\": \"0 auto\",\n",
    "        \"maxWidth\": \"1200px\",\n",
    "        \"backgroundColor\": \"#FFFFFF\",\n",
    "    },\n",
    "    children=[\n",
    "        # Title\n",
    "        html.H1(\n",
    "            \"AoD Weekly Report\",\n",
    "            style={\n",
    "                \"marginTop\": \"24px\",\n",
    "                \"marginBottom\": \"10px\",\n",
    "                \"color\": \"#2C3E70\",\n",
    "                \"textAlign\": \"center\",\n",
    "            },\n",
    "        ),\n",
    "        # Select Week Drop Down\n",
    "        html.Div(\n",
    "            style={\n",
    "                \"display\": \"flex\",\n",
    "                \"flexDirection\": \"column\",\n",
    "                \"alignItems\": \"center\",\n",
    "                \"marginBottom\": \"14px\",\n",
    "            },\n",
    "            children=[\n",
    "                html.Label(\n",
    "                    \"Select Date Range:\",\n",
    "                    style={\n",
    "                        \"fontSize\": \"14px\",\n",
    "                        \"color\": \"gray\",\n",
    "                        \"fontStyle\": \"italic\",\n",
    "                        \"marginBottom\": \"6px\",\n",
    "                    },\n",
    "                ),\n",
    "                dcc.Dropdown(\n",
    "                    id=\"date-selector\",\n",
    "                    options=week_options,\n",
    "                    value=week_options[0][\"value\"],\n",
    "                    placeholder=\"Select Week\",\n",
    "                    clearable=False,\n",
    "                    style={\n",
    "                        \"width\": \"240px\",\n",
    "                        \"fontFamily\": \"Segoe UI, sans-serif\",\n",
    "                        \"textAlign\": \"center\",\n",
    "                        \"fontSize\": \"14px\",\n",
    "                        \"borderRadius\": \"4px\",\n",
    "                        \"border\": \"1px solid #2C3E70\",\n",
    "                    },\n",
    "                ),\n",
    "                # HIDDEN FRANCHISEE SELECTOR (so the callback can hook into it)\n",
    "                dcc.Dropdown(\n",
    "                    id=\"franchisee-selector\",\n",
    "                    options=[{\"label\": f, \"value\": f} for f in all_franchisees],\n",
    "                    value=\"All\",\n",
    "                    clearable=False,\n",
    "                    style={\n",
    "                        \"display\": \"none\"\n",
    "                    },  # ← keep it invisible until your update_dashboard renders the real one\n",
    "                ),\n",
    "            ],\n",
    "        ),\n",
    "        # Franchisee selector + loading wrapper\n",
    "        html.Div(\n",
    "            style={\"display\": \"flex\", \"flexDirection\": \"column\"},\n",
    "            children=[\n",
    "                # this Loading will wrap ALL of our dynamic content\n",
    "                dcc.Loading(\n",
    "                    id=\" -dashboard\",\n",
    "                    type=\"circle\",\n",
    "                    children=html.Div(\n",
    "                        id=\"dashboard-content\", style={\"minHeight\": \"800px\"}\n",
    "                    ),\n",
    "                ),\n",
    "            ],\n",
    "        ),\n",
    "    ],\n",
    ")\n",
    "\n",
    "\n",
    "# ─── 2. Callbacks ───────────────────────────────────────────────────────────\n",
    "@app.callback(\n",
    "    Output(\"dashboard-content\", \"children\"),\n",
    "    Input(\"date-selector\", \"value\"),\n",
    "    Input(\"franchisee-selector\", \"value\"),\n",
    ")\n",
    "def _update_dashboard_wrapper(selected_week, selected_franchisee):\n",
    "    return update_dashboard(selected_week, selected_franchisee)\n",
    "\n",
    "\n",
    "# ─── 3. Run ─────────────────────────────────────────────────────────────────\n",
    "if __name__ == \"__main__\":\n",
    "    app.run(debug=True, port=8057)\n",
    "\n",
    "# UNCOMMENT IF IT IS APP.PY\n",
    "# if __name__ == \"__main__\":\n",
    "#     port = int(os.environ.get(\"PORT\", 8050))  # Render sets PORT dynamically\n",
    "#     app.run(host=\"0.0.0.0\", port=port, debug=True)"
   ]
  },
  {
   "cell_type": "markdown",
   "id": "5b3058ab-599b-4547-baa0-12da81674497",
   "metadata": {
    "panel-layout": {
     "height": 60.56640625,
     "visible": true,
     "width": 100
    }
   },
   "source": [
    "# Debugging"
   ]
  }
 ],
 "metadata": {
  "kernelspec": {
   "display_name": "Python [conda env:base] *",
   "language": "python",
   "name": "conda-base-py"
  },
  "language_info": {
   "codemirror_mode": {
    "name": "ipython",
    "version": 3
   },
   "file_extension": ".py",
   "mimetype": "text/x-python",
   "name": "python",
   "nbconvert_exporter": "python",
   "pygments_lexer": "ipython3",
   "version": "3.12.7"
  },
  "panel-cell-order": [
   "bcd1d6b7-e6d0-403c-b680-5ed7a8151d17",
   "5b3058ab-599b-4547-baa0-12da81674497"
  ]
 },
 "nbformat": 4,
 "nbformat_minor": 5
}
