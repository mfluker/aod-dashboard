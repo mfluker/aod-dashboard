{
 "cells": [
  {
   "cell_type": "code",
   "execution_count": 4,
   "id": "2d273d2f-5b7f-4be5-a45c-8fb6e4b60cd6",
   "metadata": {},
   "outputs": [
    {
     "name": "stdout",
     "output_type": "stream",
     "text": [
      "\n",
      "GH_USERNAME = \"mfluker\"\n",
      "GH_TOKEN = \"nothing\"\n",
      "GH_REPO = \"mfluker/aod-dashboard\"\n",
      "\n",
      "✅ secrets.toml updated.\n"
     ]
    }
   ],
   "source": [
    "from pathlib import Path\n",
    "\n",
    "# Define the path\n",
    "secrets_path = Path(\"../.streamlit/secrets.toml\")  # adjust if needed\n",
    "\n",
    "# If it doesn't exist, create the folder\n",
    "secrets_path.parent.mkdir(parents=True, exist_ok=True)\n",
    "\n",
    "\n",
    "# Write or update contents\n",
    "secrets_path.write_text(\"\"\"\n",
    "GH_USERNAME = \"mfluker\"\n",
    "GH_TOKEN = \"nothing\"\n",
    "GH_REPO = \"mfluker/aod-dashboard\"\n",
    "\"\"\")\n",
    "\n",
    "print(secrets_path.read_text())\n",
    "print(\"✅ secrets.toml updated.\")\n"
   ]
  }
 ],
 "metadata": {
  "kernelspec": {
   "display_name": "Python [conda env:base] *",
   "language": "python",
   "name": "conda-base-py"
  },
  "language_info": {
   "codemirror_mode": {
    "name": "ipython",
    "version": 3
   },
   "file_extension": ".py",
   "mimetype": "text/x-python",
   "name": "python",
   "nbconvert_exporter": "python",
   "pygments_lexer": "ipython3",
   "version": "3.12.7"
  }
 },
 "nbformat": 4,
 "nbformat_minor": 5
}
