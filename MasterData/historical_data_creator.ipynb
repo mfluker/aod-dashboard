{
 "cells": [
  {
   "cell_type": "code",
   "execution_count": 2,
   "id": "4e2d9542-4ef1-468f-9745-6fc9b31939f3",
   "metadata": {},
   "outputs": [
    {
     "name": "stderr",
     "output_type": "stream",
     "text": [
      "2025-06-20 12:37:26,475 - Fetching ALL Jobs data across available weeks...\n",
      "2025-06-20 12:37:26,488 - ✅ All jobs data saved to: MasterData/all_jobs_data.parquet\n",
      "2025-06-20 12:37:26,488 - Fetching ALL Call Center data (inbound and outbound) across available weeks...\n"
     ]
    },
    {
     "name": "stdout",
     "output_type": "stream",
     "text": [
      "→ Looking locally for Jobs Data…\n",
      "   • Found it. Loading Jobs Data from your computer…\n",
      "\n",
      "→ Looking locally for Jobs Data…\n",
      "   • Found it. Loading Jobs Data from your computer…\n",
      "\n",
      "→ Looking locally for Jobs Data…\n",
      "   • Found it. Loading Jobs Data from your computer…\n",
      "\n",
      "→ Looking locally for Jobs Data…\n",
      "   • Found it. Loading Jobs Data from your computer…\n",
      "\n"
     ]
    },
    {
     "name": "stderr",
     "output_type": "stream",
     "text": [
      "2025-06-20 12:37:37,784 - ✅ All call center data saved to: MasterData/all_call_center_data.parquet\n"
     ]
    }
   ],
   "source": [
    "import pandas as pd\n",
    "import logging\n",
    "from pathlib import Path\n",
    "from dashboard_utils_Copy1 import generate_week_options\n",
    "from data_fetcher_Copy1 import load_jobs_data, download_conversion_report\n",
    "\n",
    "# Setup logging\n",
    "logging.basicConfig(level=logging.INFO, format=\"%(asctime)s - %(message)s\")\n",
    "\n",
    "# Output directory\n",
    "DATA_DIR = Path(\"MasterData\")\n",
    "DATA_DIR.mkdir(parents=True, exist_ok=True)\n",
    "\n",
    "JOBS_OUTFILE = DATA_DIR / \"all_jobs_data.parquet\"\n",
    "CALLS_OUTFILE = DATA_DIR / \"all_call_center_data.parquet\"\n",
    "\n",
    "# Get all week ranges\n",
    "week_ranges = generate_week_options(start_year=2023)[:4]\n",
    "\n",
    "# ─── 1. Aggregate Jobs Data ────────────────────────────────────────────\n",
    "job_dfs = []\n",
    "logging.info(\"Fetching ALL Jobs data across available weeks...\")\n",
    "\n",
    "for wk in week_ranges:\n",
    "    start, end = wk[\"value\"].split(\"|\")\n",
    "    try:\n",
    "        df = load_jobs_data(start, end)\n",
    "        df[\"week_start\"] = start\n",
    "        df[\"week_end\"] = end\n",
    "        job_dfs.append(df)\n",
    "    except Exception as e:\n",
    "        logging.warning(f\"❌ Failed to load jobs data for {start} – {end}: {e}\")\n",
    "\n",
    "if job_dfs:\n",
    "    all_jobs = pd.concat(job_dfs, ignore_index=True)\n",
    "\n",
    "    # 🛠️ FIX: force ID to string to ensure consistent Parquet typing\n",
    "    all_jobs[\"ID\"] = all_jobs[\"ID\"].astype(str)\n",
    "\n",
    "    all_jobs.to_parquet(JOBS_OUTFILE, index=False)\n",
    "    logging.info(f\"✅ All jobs data saved to: {JOBS_OUTFILE}\")\n",
    "\n",
    "else:\n",
    "    logging.warning(\"⚠️ No jobs data collected.\")\n",
    "\n",
    "# ─── 2. Aggregate Call Center Data ──────────────────────────────────────\n",
    "call_dfs = []\n",
    "logging.info(\"Fetching ALL Call Center data (inbound and outbound) across available weeks...\")\n",
    "\n",
    "for wk in week_ranges:\n",
    "    start, end = wk[\"value\"].split(\"|\")\n",
    "\n",
    "    for include_homeshow in [False, True]:  # Inbound then Outbound\n",
    "        try:\n",
    "            df, _ = download_conversion_report(start, end, include_homeshow=include_homeshow)\n",
    "            df[\"week_start\"] = start\n",
    "            df[\"week_end\"] = end\n",
    "            df[\"mode\"] = \"outbound\" if include_homeshow else \"inbound\"\n",
    "            call_dfs.append(df)\n",
    "        except Exception as e:\n",
    "            mode = \"Outbound\" if include_homeshow else \"Inbound\"\n",
    "            logging.warning(f\"❌ Failed to fetch {mode} call data for {start} – {end}: {e}\")\n",
    "\n",
    "if call_dfs:\n",
    "    all_calls = pd.concat(call_dfs, ignore_index=True)\n",
    "    all_calls.to_parquet(CALLS_OUTFILE, index=False)\n",
    "    logging.info(f\"✅ All call center data saved to: {CALLS_OUTFILE}\")\n",
    "else:\n",
    "    logging.warning(\"⚠️ No call center data collected.\")"
   ]
  },
  {
   "cell_type": "code",
   "execution_count": 5,
   "id": "766b6e27-fa97-45fa-8bfd-1842c318125f",
   "metadata": {},
   "outputs": [
    {
     "data": {
      "text/html": [
       "\n",
       "        <iframe\n",
       "            width=\"100%\"\n",
       "            height=\"650\"\n",
       "            src=\"http://127.0.0.1:8060/\"\n",
       "            frameborder=\"0\"\n",
       "            allowfullscreen\n",
       "            \n",
       "        ></iframe>\n",
       "        "
      ],
      "text/plain": [
       "<IPython.lib.display.IFrame at 0x16893f1d0>"
      ]
     },
     "metadata": {},
     "output_type": "display_data"
    }
   ],
   "source": [
    "import pandas as pd\n",
    "from pathlib import Path\n",
    "from dash import Dash, dcc, html, dash_table\n",
    "\n",
    "# ─── Configuration ────────────────────────────────────────────────────────\n",
    "DATA_DIR = Path(\"MasterData\")\n",
    "JOBS_FILE = DATA_DIR / \"all_jobs_data.parquet\"\n",
    "CALLS_FILE = DATA_DIR / \"all_call_center_data.parquet\"\n",
    "\n",
    "# ─── Load Data ─────────────────────────────────────────────────────────────\n",
    "def safe_load_parquet(path):\n",
    "    if path.exists():\n",
    "        return pd.read_parquet(path)\n",
    "    else:\n",
    "        return pd.DataFrame()\n",
    "\n",
    "jobs_df = safe_load_parquet(JOBS_FILE)\n",
    "calls_df = safe_load_parquet(CALLS_FILE)\n",
    "\n",
    "# ─── App Initialization ────────────────────────────────────────────────────\n",
    "app = Dash(__name__)\n",
    "app.title = \"Parquet Viewer\"\n",
    "\n",
    "# ─── App Layout ────────────────────────────────────────────────────────────\n",
    "app.layout = html.Div([\n",
    "    html.H2(\"📦 Parquet File Viewer\", style={\"textAlign\": \"center\", \"color\": \"#2C3E70\"}),\n",
    "\n",
    "    dcc.Tabs([\n",
    "        dcc.Tab(label=\"Jobs Data\", children=[\n",
    "            html.H4(\"Jobs Dataset\", style={\"marginTop\": \"10px\"}),\n",
    "            dash_table.DataTable(\n",
    "                data=jobs_df.to_dict(\"records\"),\n",
    "                columns=[{\"name\": i, \"id\": i} for i in jobs_df.columns],\n",
    "                page_size=20,\n",
    "                style_table={\"overflowX\": \"auto\"},\n",
    "                filter_action=\"native\",\n",
    "                sort_action=\"native\",\n",
    "            )\n",
    "        ]),\n",
    "        dcc.Tab(label=\"Call Center Data\", children=[\n",
    "            html.H4(\"Call Center Dataset\", style={\"marginTop\": \"10px\"}),\n",
    "            dash_table.DataTable(\n",
    "                data=calls_df.to_dict(\"records\"),\n",
    "                columns=[{\"name\": i, \"id\": i} for i in calls_df.columns],\n",
    "                page_size=20,\n",
    "                style_table={\"overflowX\": \"auto\"},\n",
    "                filter_action=\"native\",\n",
    "                sort_action=\"native\",\n",
    "            )\n",
    "        ]),\n",
    "    ])\n",
    "], style={\"fontFamily\": \"Segoe UI\", \"margin\": \"20px\"})\n",
    "\n",
    "\n",
    "# ─── Run App ───────────────────────────────────────────────────────────────\n",
    "if __name__ == \"__main__\":\n",
    "    app.run(debug=True, port=8060)\n"
   ]
  }
 ],
 "metadata": {
  "kernelspec": {
   "display_name": "Python [conda env:base] *",
   "language": "python",
   "name": "conda-base-py"
  },
  "language_info": {
   "codemirror_mode": {
    "name": "ipython",
    "version": 3
   },
   "file_extension": ".py",
   "mimetype": "text/x-python",
   "name": "python",
   "nbconvert_exporter": "python",
   "pygments_lexer": "ipython3",
   "version": "3.12.7"
  }
 },
 "nbformat": 4,
 "nbformat_minor": 5
}
